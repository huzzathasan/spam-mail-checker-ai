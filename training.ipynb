{
 "cells": [
  {
   "cell_type": "markdown",
   "id": "b5b4d6af",
   "metadata": {},
   "source": [
    "Train our spam checking model"
   ]
  },
  {
   "cell_type": "code",
   "execution_count": null,
   "id": "70e5c9f8",
   "metadata": {},
   "outputs": [],
   "source": [
    "%pip install scikit-learn pandas joblib"
   ]
  },
  {
   "cell_type": "code",
   "execution_count": null,
   "id": "d673f93d",
   "metadata": {},
   "outputs": [],
   "source": [
    "# import all needed module\n",
    "import pandas as pd\n",
    "from sklearn.feature_extraction.text import TfidfVectorizer\n",
    "from sklearn.naive_bayes import MultinomialNB\n",
    "from sklearn.pipeline import Pipeline\n",
    "from sklearn.preprocessing import LabelEncoder\n",
    "import joblib"
   ]
  },
  {
   "cell_type": "code",
   "execution_count": null,
   "id": "29a0166c",
   "metadata": {},
   "outputs": [],
   "source": [
    "# load dataset\n",
    "df = pd.read_csv('data.csv')"
   ]
  },
  {
   "cell_type": "code",
   "execution_count": null,
   "id": "25df8820",
   "metadata": {},
   "outputs": [],
   "source": [
    "# preprocess data\n",
    "df['Text'] = df[\"Text\"].str.lower() # convert to lowercase\n",
    "text = df['Text'].to_list()\n",
    "lebel = df['Label'].to_list()"
   ]
  },
  {
   "cell_type": "code",
   "execution_count": null,
   "id": "29bcf110",
   "metadata": {},
   "outputs": [],
   "source": [
    "# Encode lebel\n",
    "encoder = LabelEncoder()\n",
    "encode_level = encoder.fit_transform(lebel)"
   ]
  },
  {
   "cell_type": "code",
   "execution_count": null,
   "id": "5834d67f",
   "metadata": {},
   "outputs": [],
   "source": [
    "# create a model pipeline\n",
    "model = Pipeline([\n",
    "    ('tfidf', TfidfVectorizer(stop_words='english', ngram_range=(1, 2))),\n",
    "    ('classifier', MultinomialNB())\n",
    "])"
   ]
  },
  {
   "cell_type": "code",
   "execution_count": null,
   "id": "152435d5",
   "metadata": {},
   "outputs": [],
   "source": [
    "# train model \n",
    "model.fit(text, lebel)"
   ]
  },
  {
   "cell_type": "code",
   "execution_count": null,
   "id": "d59d43c6",
   "metadata": {},
   "outputs": [],
   "source": [
    "# save model\n",
    "joblib.dump({\n",
    "    'model': model,\n",
    "    'encoder': encoder\n",
    "}, \"model-spam-mail-checker-1k-params.joblib\")"
   ]
  },
  {
   "cell_type": "markdown",
   "id": "265af75b",
   "metadata": {},
   "source": [
    "That's it! we are trained our spam checking model and save it working dir."
   ]
  }
 ],
 "metadata": {
  "language_info": {
   "name": "python"
  }
 },
 "nbformat": 4,
 "nbformat_minor": 5
}
